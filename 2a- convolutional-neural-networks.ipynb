{
 "cells": [
  {
   "cell_type": "markdown",
   "metadata": {},
   "source": [
    "# Sieci splotowe (Convolutional Neural Networks)"
   ]
  },
  {
   "cell_type": "code",
   "execution_count": 1,
   "metadata": {},
   "outputs": [
    {
     "name": "stdout",
     "output_type": "stream",
     "text": [
      "Collecting matplotlib\n",
      "  Using cached matplotlib-3.10.0-cp310-cp310-macosx_11_0_arm64.whl.metadata (11 kB)\n",
      "Collecting numpy\n",
      "  Using cached numpy-2.2.1-cp310-cp310-macosx_14_0_arm64.whl.metadata (62 kB)\n",
      "Collecting torch\n",
      "  Using cached torch-2.5.1-cp310-none-macosx_11_0_arm64.whl.metadata (28 kB)\n",
      "Collecting torchvision\n",
      "  Using cached torchvision-0.20.1-cp310-cp310-macosx_11_0_arm64.whl.metadata (6.1 kB)\n",
      "Collecting contourpy>=1.0.1 (from matplotlib)\n",
      "  Using cached contourpy-1.3.1-cp310-cp310-macosx_11_0_arm64.whl.metadata (5.4 kB)\n",
      "Collecting cycler>=0.10 (from matplotlib)\n",
      "  Using cached cycler-0.12.1-py3-none-any.whl.metadata (3.8 kB)\n",
      "Collecting fonttools>=4.22.0 (from matplotlib)\n",
      "  Using cached fonttools-4.55.3-cp310-cp310-macosx_10_9_universal2.whl.metadata (165 kB)\n",
      "Collecting kiwisolver>=1.3.1 (from matplotlib)\n",
      "  Using cached kiwisolver-1.4.7-cp310-cp310-macosx_11_0_arm64.whl.metadata (6.3 kB)\n",
      "Requirement already satisfied: packaging>=20.0 in ./.venv/lib/python3.10/site-packages (from matplotlib) (24.2)\n",
      "Collecting pillow>=8 (from matplotlib)\n",
      "  Using cached pillow-11.0.0-cp310-cp310-macosx_11_0_arm64.whl.metadata (9.1 kB)\n",
      "Collecting pyparsing>=2.3.1 (from matplotlib)\n",
      "  Using cached pyparsing-3.2.0-py3-none-any.whl.metadata (5.0 kB)\n",
      "Requirement already satisfied: python-dateutil>=2.7 in ./.venv/lib/python3.10/site-packages (from matplotlib) (2.9.0.post0)\n",
      "Collecting filelock (from torch)\n",
      "  Using cached filelock-3.16.1-py3-none-any.whl.metadata (2.9 kB)\n",
      "Requirement already satisfied: typing-extensions>=4.8.0 in ./.venv/lib/python3.10/site-packages (from torch) (4.12.2)\n",
      "Collecting networkx (from torch)\n",
      "  Using cached networkx-3.4.2-py3-none-any.whl.metadata (6.3 kB)\n",
      "Collecting jinja2 (from torch)\n",
      "  Using cached jinja2-3.1.5-py3-none-any.whl.metadata (2.6 kB)\n",
      "Collecting fsspec (from torch)\n",
      "  Using cached fsspec-2024.12.0-py3-none-any.whl.metadata (11 kB)\n",
      "Collecting sympy==1.13.1 (from torch)\n",
      "  Using cached sympy-1.13.1-py3-none-any.whl.metadata (12 kB)\n",
      "Collecting mpmath<1.4,>=1.1.0 (from sympy==1.13.1->torch)\n",
      "  Using cached mpmath-1.3.0-py3-none-any.whl.metadata (8.6 kB)\n",
      "Requirement already satisfied: six>=1.5 in ./.venv/lib/python3.10/site-packages (from python-dateutil>=2.7->matplotlib) (1.17.0)\n",
      "Collecting MarkupSafe>=2.0 (from jinja2->torch)\n",
      "  Using cached MarkupSafe-3.0.2-cp310-cp310-macosx_11_0_arm64.whl.metadata (4.0 kB)\n",
      "Using cached matplotlib-3.10.0-cp310-cp310-macosx_11_0_arm64.whl (8.0 MB)\n",
      "Using cached numpy-2.2.1-cp310-cp310-macosx_14_0_arm64.whl (5.4 MB)\n",
      "Using cached torch-2.5.1-cp310-none-macosx_11_0_arm64.whl (63.9 MB)\n",
      "Using cached sympy-1.13.1-py3-none-any.whl (6.2 MB)\n",
      "Using cached torchvision-0.20.1-cp310-cp310-macosx_11_0_arm64.whl (1.8 MB)\n",
      "Using cached contourpy-1.3.1-cp310-cp310-macosx_11_0_arm64.whl (253 kB)\n",
      "Using cached cycler-0.12.1-py3-none-any.whl (8.3 kB)\n",
      "Using cached fonttools-4.55.3-cp310-cp310-macosx_10_9_universal2.whl (2.8 MB)\n",
      "Using cached kiwisolver-1.4.7-cp310-cp310-macosx_11_0_arm64.whl (64 kB)\n",
      "Using cached pillow-11.0.0-cp310-cp310-macosx_11_0_arm64.whl (3.0 MB)\n",
      "Using cached pyparsing-3.2.0-py3-none-any.whl (106 kB)\n",
      "Using cached filelock-3.16.1-py3-none-any.whl (16 kB)\n",
      "Using cached fsspec-2024.12.0-py3-none-any.whl (183 kB)\n",
      "Using cached jinja2-3.1.5-py3-none-any.whl (134 kB)\n",
      "Using cached networkx-3.4.2-py3-none-any.whl (1.7 MB)\n",
      "Using cached MarkupSafe-3.0.2-cp310-cp310-macosx_11_0_arm64.whl (12 kB)\n",
      "Using cached mpmath-1.3.0-py3-none-any.whl (536 kB)\n",
      "Installing collected packages: mpmath, sympy, pyparsing, pillow, numpy, networkx, MarkupSafe, kiwisolver, fsspec, fonttools, filelock, cycler, jinja2, contourpy, torch, matplotlib, torchvision\n",
      "Successfully installed MarkupSafe-3.0.2 contourpy-1.3.1 cycler-0.12.1 filelock-3.16.1 fonttools-4.55.3 fsspec-2024.12.0 jinja2-3.1.5 kiwisolver-1.4.7 matplotlib-3.10.0 mpmath-1.3.0 networkx-3.4.2 numpy-2.2.1 pillow-11.0.0 pyparsing-3.2.0 sympy-1.13.1 torch-2.5.1 torchvision-0.20.1\n",
      "Note: you may need to restart the kernel to use updated packages.\n"
     ]
    }
   ],
   "source": [
    "%pip install matplotlib numpy torch torchvision"
   ]
  },
  {
   "cell_type": "code",
   "execution_count": 2,
   "metadata": {},
   "outputs": [],
   "source": [
    "%matplotlib inline\n",
    "\n",
    "import matplotlib\n",
    "import numpy as np\n",
    "import matplotlib.pyplot as plt\n",
    "\n",
    "import torch\n",
    "import torch.nn as nn\n",
    "import torch.optim as optim\n",
    "import torch.utils.data as data"
   ]
  },
  {
   "cell_type": "markdown",
   "metadata": {},
   "source": [
    "### Przygotowanie danych\n",
    "Wykorzystamy w zadaniu zbiór Fashion-MNIST. Jak zwykle zaczynamy od pobrania danych, sprawdzamy krótko jak wyglądają, a następnie definiujemy miarę trafności"
   ]
  },
  {
   "cell_type": "code",
   "execution_count": 3,
   "metadata": {},
   "outputs": [
    {
     "name": "stdout",
     "output_type": "stream",
     "text": [
      "Downloading http://fashion-mnist.s3-website.eu-central-1.amazonaws.com/train-images-idx3-ubyte.gz\n",
      "Downloading http://fashion-mnist.s3-website.eu-central-1.amazonaws.com/train-images-idx3-ubyte.gz to fmnist/FashionMNIST/raw/train-images-idx3-ubyte.gz\n"
     ]
    },
    {
     "name": "stderr",
     "output_type": "stream",
     "text": [
      "100.0%\n"
     ]
    },
    {
     "name": "stdout",
     "output_type": "stream",
     "text": [
      "Extracting fmnist/FashionMNIST/raw/train-images-idx3-ubyte.gz to fmnist/FashionMNIST/raw\n",
      "\n",
      "Downloading http://fashion-mnist.s3-website.eu-central-1.amazonaws.com/train-labels-idx1-ubyte.gz\n"
     ]
    },
    {
     "name": "stderr",
     "output_type": "stream",
     "text": [
      "100.0%"
     ]
    },
    {
     "name": "stdout",
     "output_type": "stream",
     "text": [
      "Downloading http://fashion-mnist.s3-website.eu-central-1.amazonaws.com/train-labels-idx1-ubyte.gz to fmnist/FashionMNIST/raw/train-labels-idx1-ubyte.gz\n",
      "Extracting fmnist/FashionMNIST/raw/train-labels-idx1-ubyte.gz to fmnist/FashionMNIST/raw\n",
      "\n",
      "Downloading http://fashion-mnist.s3-website.eu-central-1.amazonaws.com/t10k-images-idx3-ubyte.gz\n"
     ]
    },
    {
     "name": "stderr",
     "output_type": "stream",
     "text": [
      "\n",
      "3.7%"
     ]
    },
    {
     "name": "stdout",
     "output_type": "stream",
     "text": [
      "Downloading http://fashion-mnist.s3-website.eu-central-1.amazonaws.com/t10k-images-idx3-ubyte.gz to fmnist/FashionMNIST/raw/t10k-images-idx3-ubyte.gz\n"
     ]
    },
    {
     "name": "stderr",
     "output_type": "stream",
     "text": [
      "100.0%\n"
     ]
    },
    {
     "name": "stdout",
     "output_type": "stream",
     "text": [
      "Extracting fmnist/FashionMNIST/raw/t10k-images-idx3-ubyte.gz to fmnist/FashionMNIST/raw\n",
      "\n",
      "Downloading http://fashion-mnist.s3-website.eu-central-1.amazonaws.com/t10k-labels-idx1-ubyte.gz\n",
      "Downloading http://fashion-mnist.s3-website.eu-central-1.amazonaws.com/t10k-labels-idx1-ubyte.gz to fmnist/FashionMNIST/raw/t10k-labels-idx1-ubyte.gz\n"
     ]
    },
    {
     "name": "stderr",
     "output_type": "stream",
     "text": [
      "100.0%"
     ]
    },
    {
     "name": "stdout",
     "output_type": "stream",
     "text": [
      "Extracting fmnist/FashionMNIST/raw/t10k-labels-idx1-ubyte.gz to fmnist/FashionMNIST/raw\n",
      "\n"
     ]
    },
    {
     "name": "stderr",
     "output_type": "stream",
     "text": [
      "\n"
     ]
    }
   ],
   "source": [
    "import torchvision.transforms as transforms\n",
    "from torchvision.datasets import FashionMNIST\n",
    "\n",
    "target_directory = \"fmnist\"\n",
    "\n",
    "fmnist_real_train = FashionMNIST(target_directory, train=True, download=True, transform=transforms.ToTensor())\n",
    "fmnist_test = FashionMNIST(target_directory, train=False, download=True, transform=transforms.ToTensor())"
   ]
  },
  {
   "cell_type": "code",
   "execution_count": 4,
   "metadata": {},
   "outputs": [
    {
     "data": {
      "text/plain": [
       "(48000, 12000)"
      ]
     },
     "execution_count": 4,
     "metadata": {},
     "output_type": "execute_result"
    }
   ],
   "source": [
    "fmnist_train, fmnist_validation = data.random_split(fmnist_real_train, (48000, 12000))\n",
    "len(fmnist_train), len(fmnist_validation)"
   ]
  },
  {
   "cell_type": "code",
   "execution_count": 5,
   "metadata": {},
   "outputs": [
    {
     "data": {
      "text/plain": [
       "torch.Size([1, 28, 28])"
      ]
     },
     "execution_count": 5,
     "metadata": {},
     "output_type": "execute_result"
    }
   ],
   "source": [
    "fmnist_train[0][0].shape"
   ]
  },
  {
   "cell_type": "code",
   "execution_count": 6,
   "metadata": {},
   "outputs": [
    {
     "data": {
      "image/png": "[encoded data removed]",
      "text/plain": [
       "<Figure size 500x500 with 12 Axes>"
      ]
     },
     "metadata": {},
     "output_type": "display_data"
    }
   ],
   "source": [
    "trainloader = data.DataLoader(fmnist_train, batch_size=64, shuffle=True)\n",
    "dataiter = iter(trainloader)\n",
    "images,_ = next(dataiter)\n",
    "plt.figure(figsize=(5,5))\n",
    "for k in range(12):\n",
    "    plt.subplot(3, 4, k+1)\n",
    "    plt.imshow(images[k].numpy().squeeze(), cmap='gray_r')\n",
    "    plt.axis('off')\n",
    "plt.tight_layout()\n",
    "plt.show()"
   ]
  },
  {
   "cell_type": "code",
   "execution_count": 7,
   "metadata": {},
   "outputs": [],
   "source": [
    "def compute_acc(logits, expected):\n",
    "    pred = logits.argmax(dim=1)\n",
    "    return (pred == expected).type(torch.float).mean()"
   ]
  },
  {
   "cell_type": "markdown",
   "metadata": {},
   "source": [
    "#### Warstwa splotowa (konwolucyjna)\n",
    "\n",
    "Warstwa splotowa przemieszcza jądro (ang. *kernel*), zwane też filtrem, po obrazie kawałek po kawałku, oblicza wynik i zapamiętuje go w macierzy wyjściowej. Przetwarzany obrazek jest często uzupełniany o zera (ang. *padding*), ponieważ bez tego macierz wynikowa byłaby mniejsza niż obrazek wejściowy. Piksel w macierzy wyjściowej obliczany jest następująco: każdy z pikseli obrazu wejściowego jest mnożony przez odpowiadającą mu wartość w filtrze, a tak uzyskane 9 wartości jest sumowane. Następnie ten sam filtr wykorzystywany jest do obliczenia kolejnego piksela. Filtr składa się z wag splotowej sieci neuronowej, co oznacza, że to on podlega uczeniu.\n",
    "\n",
    "Jądro nie musi przesuwać się za każdym razem o 1 piksel, może mieć większy krok (ang. *stride*).\n",
    "\n",
    "Jeśli obrazek jest kolorowy możemy go postrzegać jako kilka obrazków monochromatycznych.\n",
    "\n",
    "Przykład: [jak działa sieć konwolucyjna](https://bfirst.tech/wp-content/uploads/2022/01/gif_blog.gif)"
   ]
  },
  {
   "cell_type": "markdown",
   "metadata": {},
   "source": [
    "Warstwę splotową w PyTorch realizuje klasa [`torch.nn.Conv2d`](https://pytorch.org/docs/stable/nn.html?highlight=conv2d#torch.nn.Conv2d). Pierwsze jej trzy parametry są obowiązkowe, są to:\n",
    "\n",
    "- liczba map na wejściu, \n",
    "- liczba map na wyjściu, \n",
    "- rozmiar jądra (jedna liczba jeżeli ma być kwadratowe albo para liczb jeżeli ma być prostokątem).\n",
    "\n",
    "Będziemy budowali krok po kroku listę, w której będziemy umieszczali kolejne warstwy sieci.\n",
    "\n",
    "Rozpoczniemy od dodania warstwy splotowej.\n",
    "\n",
    "Obrazki MNIST są monochromatyczne, więc mamy tylko 1 kanał wejściowy.\n",
    "\n",
    "Przyjmimy, że na wyjściu będziemy mieli **5 map**, każdą na bazie kwadratowego filtra o boku 3.\n",
    "Żeby nie zmniejszyć zbyt szybko obrazka dodamy po 1 pikselu paddingu z każdej strony - jak w ww. przykładzie."
   ]
  },
  {
   "cell_type": "code",
   "execution_count": 8,
   "metadata": {},
   "outputs": [],
   "source": [
    "layers = [nn.Conv2d(1, 5, 3, padding=1)]"
   ]
  },
  {
   "cell_type": "markdown",
   "metadata": {},
   "source": [
    "Warstwa splotowa - podobnie jak warstwa liniowa (`nn.Linear`) - jest tylko sumą. By wprowadzić nieliniowość, zastosujemy *Leaky ReLU*"
   ]
  },
  {
   "cell_type": "code",
   "execution_count": 9,
   "metadata": {},
   "outputs": [],
   "source": [
    "layers.append(nn.LeakyReLU())"
   ]
  },
  {
   "cell_type": "markdown",
   "metadata": {},
   "source": [
    "Druga warstwa jest nazywana łączącą (ang. *pooling layer*). Jej zadaniem jest zmniejszenie wymiarów cech konwolucyjnych, wyznaczonych w poprzedniej warstwie, przy zachowaniu kluczowych szczegółów. Odpowiada również za redukcję szumu. \n",
    "\n",
    "Warstwa ta, podobnie jak warstwa splotowa przesuwa filtr przez obraz, ale ten filtr jest pozbawiony parametrów: służy albo do wybierania maksimum (ang. *max pooling*) albo do obliczania średniej arytmetycznej (ang. *average pooling*). Każda mapa analizowana jest oddzielnie, więc zawsze pozostajemy w dwóch wymiarach.\n",
    "\n",
    "Kontynuacja przykładu: [jak działa pooling](https://bfirst.tech/wp-content/uploads/2022/01/blog_konwolucyjne_sieci33.svg)"
   ]
  },
  {
   "cell_type": "markdown",
   "metadata": {},
   "source": [
    "Dodamy zatem do naszej sieci neuronowej *max pooling*, realizowany za pomocą klasy `nn.MaxPool2d`, z jądrem rozmiaru $3 x 3$ i uzupełnieniem o 1 piksel z każdej strony."
   ]
  },
  {
   "cell_type": "code",
   "execution_count": 10,
   "metadata": {},
   "outputs": [],
   "source": [
    "layers.append(nn.MaxPool2d(3, padding=1))"
   ]
  },
  {
   "cell_type": "markdown",
   "metadata": {},
   "source": [
    "**Zadanie 1a. Mamy 5 map, a jakiego rozmiaru będą one na tym etapie przetwarzania, jeżeli wejście miało mapę rozmiaru $28 x 28$, a jądro ma rozmiar 3 z krokiem 3?**"
   ]
  },
  {
   "cell_type": "code",
   "execution_count": 11,
   "metadata": {},
   "outputs": [
    {
     "name": "stdout",
     "output_type": "stream",
     "text": [
      "Rozmiar map to [5, 10, 10].\n"
     ]
    }
   ],
   "source": [
    "# Wartości:\n",
    "input_height = 28\n",
    "input_width = 28\n",
    "padding = 1\n",
    "dilatation = 1\n",
    "kernel_size = 3\n",
    "stride = 3\n",
    "maps_num = 5\n",
    "\n",
    "# Wzór:\n",
    "# H(out) = ((H(in) + 2 * padding - dilatation * (kernel_size - 1) - 1) / stride) - 1\n",
    "# W(out) = ((W(in) + 2 * padding - dilatation * (kernel_size - 1) - 1) / stride) - 1\n",
    "\n",
    "def compute_output_size(input_height, input_width, kernel_size, stride, padding):\n",
    "\n",
    "    h_out = int(((input_height + 2 * padding - kernel_size) / stride) + 1)\n",
    "    w_out = int(((input_width + 2 * padding - kernel_size) / stride) + 1)\n",
    "    \n",
    "    map_size = [maps_num, h_out, w_out]\n",
    "\n",
    "    print(f\"Rozmiar map to {map_size}.\")\n",
    "    return map_size\n",
    "\n",
    "map_size = compute_output_size(input_height, input_width, kernel_size, stride, padding)"
   ]
  },
  {
   "cell_type": "markdown",
   "metadata": {},
   "source": [
    "### Spłaszczenie i klasyfikacja\n",
    "\n",
    "Na tym etapie każdy obiekt przetwarzany przez sieć jest trójwymiarowy, czyli składa się z pewnej liczby dwuwymiarowych map. Do klasyfikacji wykorzystamy sumującą warstwę liniową `nn.Linear`. Nie jest to dla niej odpowiedni format wejścia. Zatem najpierw za pomocą klasy `nn.Flatten` ułożymy piksele jeden za drugim w wektor.\n",
    "\n",
    "**Zadanie 1b. Klasyfikujemy do 10 klas, więc mamy 10 neuronów wyjściowych, a ilu potrzeba wejść? Uzupełnij kod (w miejscu ...) na podstawie wyników zad. 1.**"
   ]
  },
  {
   "cell_type": "code",
   "execution_count": 12,
   "metadata": {},
   "outputs": [
    {
     "name": "stdout",
     "output_type": "stream",
     "text": [
      "Ilość wejść to 500.\n"
     ]
    }
   ],
   "source": [
    "# Aby określić ilość wejść należy pomnożyć ilość map przez ich rozmiar.\n",
    "\n",
    "def compute_input_size(map_size):\n",
    "    input_size = 1\n",
    "\n",
    "    for num in map_size:\n",
    "        input_size *= num\n",
    "\n",
    "    print(f\"Ilość wejść to {input_size}.\")\n",
    "\n",
    "compute_input_size(map_size)"
   ]
  },
  {
   "cell_type": "code",
   "execution_count": 13,
   "metadata": {},
   "outputs": [],
   "source": [
    "layers.append(torch.nn.Flatten())\n",
    "layers.append(nn.Linear(500, 10))"
   ]
  },
  {
   "cell_type": "markdown",
   "metadata": {},
   "source": [
    "### Konfiguracja sieci\n",
    "\n",
    "**Zadanie 1c. Połącz gotowe warstwy w jeden sekwencyjny moduł, jako funkcję straty zadeklaruj entropię krzyżową/skrośną, a do optymalizacji parametrów modelu użyj optymalizatora Adam.**"
   ]
  },
  {
   "cell_type": "code",
   "execution_count": 14,
   "metadata": {},
   "outputs": [],
   "source": [
    "model = nn.Sequential(*layers)\n",
    "\n",
    "cost = nn.CrossEntropyLoss()\n",
    "opt = optim.Adam(model.parameters(), lr=0.001)"
   ]
  },
  {
   "cell_type": "code",
   "execution_count": 15,
   "metadata": {},
   "outputs": [
    {
     "data": {
      "text/plain": [
       "Sequential(\n",
       "  (0): Conv2d(1, 5, kernel_size=(3, 3), stride=(1, 1), padding=(1, 1))\n",
       "  (1): LeakyReLU(negative_slope=0.01)\n",
       "  (2): MaxPool2d(kernel_size=3, stride=3, padding=1, dilation=1, ceil_mode=False)\n",
       "  (3): Flatten(start_dim=1, end_dim=-1)\n",
       "  (4): Linear(in_features=500, out_features=10, bias=True)\n",
       ")"
      ]
     },
     "execution_count": 15,
     "metadata": {},
     "output_type": "execute_result"
    }
   ],
   "source": [
    "model"
   ]
  },
  {
   "cell_type": "markdown",
   "metadata": {},
   "source": [
    "### Uczenie z wykorzystaniem wczesnego zatrzymania\n",
    "\n",
    "Wczesne zatrzymanie (ang. *early stopping*) składa się z następujących kroków:\n",
    "- co określoną liczbę epok uczenia obliczamy miarę oceny (np. trafność klasyfikacji) na zbiorze walidującym\n",
    "- jeżeli nastąpiła poprawa w stosunku do poprzedniego razu, zapamiętujemy obecne wartości wag sieci neuronowej\n",
    "- jeżeli przez określoną liczbę epok nie następuje poprawa, przerywamy uczenie i przywracamy wagi ostatniego najlepszego modelu\n",
    "\n",
    "**Zadanie 2a. Poniższy kawałek kodu oblicza trafność na zbiorze walidującym co epokę. Dodaj kod przerywający uczenie, jeżeli przez 5 kolejnych epok nie nastąpiła poprawa. Wyświetlaj wynik i numer porządkowy aktualnie najlepszej epoki, skorzystaj z zadeklarowanych zmiennych, podaj informację o fakcie wczesnego zatrzymania. Pamiętaj że najlepszy model powinien zostać zapisany, sprawdź w dokumentacji biblioteki pytorch jak to zrobić (jest to funkcja modelu). Na końcu ładujemy najlepszy model.**"
   ]
  },
  {
   "cell_type": "code",
   "execution_count": 16,
   "metadata": {
    "scrolled": true
   },
   "outputs": [
    {
     "name": "stdout",
     "output_type": "stream",
     "text": [
      "Epoka: 0, dokładność: 0.7079166769981384, brak poprawy: 0, najlepsza epoka: 0\n",
      "Epoka: 1, dokładność: 0.7745833396911621, brak poprawy: 0, najlepsza epoka: 1\n",
      "Epoka: 2, dokładność: 0.79666668176651, brak poprawy: 0, najlepsza epoka: 2\n",
      "Epoka: 3, dokładność: 0.8116666674613953, brak poprawy: 0, najlepsza epoka: 3\n",
      "Epoka: 4, dokładność: 0.8295833468437195, brak poprawy: 0, najlepsza epoka: 4\n",
      "Epoka: 5, dokładność: 0.8309166431427002, brak poprawy: 0, najlepsza epoka: 5\n",
      "Epoka: 6, dokładność: 0.8422499895095825, brak poprawy: 0, najlepsza epoka: 6\n",
      "Epoka: 7, dokładność: 0.847000002861023, brak poprawy: 0, najlepsza epoka: 7\n",
      "Epoka: 8, dokładność: 0.8477500081062317, brak poprawy: 0, najlepsza epoka: 8\n",
      "Epoka: 9, dokładność: 0.8554999828338623, brak poprawy: 0, najlepsza epoka: 9\n",
      "Epoka: 10, dokładność: 0.8543333411216736, brak poprawy: 1, najlepsza epoka: 9\n",
      "Epoka: 11, dokładność: 0.8600000143051147, brak poprawy: 0, najlepsza epoka: 11\n",
      "Epoka: 12, dokładność: 0.862333357334137, brak poprawy: 0, najlepsza epoka: 12\n",
      "Epoka: 13, dokładność: 0.8619999885559082, brak poprawy: 1, najlepsza epoka: 12\n",
      "Epoka: 14, dokładność: 0.8657500147819519, brak poprawy: 0, najlepsza epoka: 14\n",
      "Epoka: 15, dokładność: 0.8667500019073486, brak poprawy: 0, najlepsza epoka: 15\n",
      "Epoka: 16, dokładność: 0.8666666746139526, brak poprawy: 1, najlepsza epoka: 15\n",
      "Epoka: 17, dokładność: 0.8654999732971191, brak poprawy: 2, najlepsza epoka: 15\n",
      "Epoka: 18, dokładność: 0.8692499995231628, brak poprawy: 0, najlepsza epoka: 18\n",
      "Epoka: 19, dokładność: 0.8689166903495789, brak poprawy: 1, najlepsza epoka: 18\n",
      "Epoka: 20, dokładność: 0.8699166774749756, brak poprawy: 0, najlepsza epoka: 20\n",
      "Epoka: 21, dokładność: 0.8690000176429749, brak poprawy: 1, najlepsza epoka: 20\n",
      "Epoka: 22, dokładność: 0.8696666955947876, brak poprawy: 2, najlepsza epoka: 20\n",
      "Epoka: 23, dokładność: 0.8709166646003723, brak poprawy: 0, najlepsza epoka: 23\n",
      "Epoka: 24, dokładność: 0.8730833530426025, brak poprawy: 0, najlepsza epoka: 24\n",
      "Epoka: 25, dokładność: 0.8743333220481873, brak poprawy: 0, najlepsza epoka: 25\n",
      "Epoka: 26, dokładność: 0.8712499737739563, brak poprawy: 1, najlepsza epoka: 25\n",
      "Epoka: 27, dokładność: 0.8740833401679993, brak poprawy: 2, najlepsza epoka: 25\n",
      "Epoka: 28, dokładność: 0.874916672706604, brak poprawy: 0, najlepsza epoka: 28\n",
      "Epoka: 29, dokładność: 0.8737499713897705, brak poprawy: 1, najlepsza epoka: 28\n",
      "Epoka: 30, dokładność: 0.8733333349227905, brak poprawy: 2, najlepsza epoka: 28\n",
      "Epoka: 31, dokładność: 0.8759166598320007, brak poprawy: 0, najlepsza epoka: 31\n",
      "Epoka: 32, dokładność: 0.8760833144187927, brak poprawy: 0, najlepsza epoka: 32\n",
      "Epoka: 33, dokładność: 0.8755833506584167, brak poprawy: 1, najlepsza epoka: 32\n",
      "Epoka: 34, dokładność: 0.8762500286102295, brak poprawy: 0, najlepsza epoka: 34\n",
      "Epoka: 35, dokładność: 0.875249981880188, brak poprawy: 1, najlepsza epoka: 34\n",
      "Epoka: 36, dokładność: 0.875333309173584, brak poprawy: 2, najlepsza epoka: 34\n",
      "Epoka: 37, dokładność: 0.8758333325386047, brak poprawy: 3, najlepsza epoka: 34\n",
      "Epoka: 38, dokładność: 0.8745833039283752, brak poprawy: 4, najlepsza epoka: 34\n",
      "Epoka: 39, dokładność: 0.8769999742507935, brak poprawy: 0, najlepsza epoka: 39\n",
      "Epoka: 40, dokładność: 0.8765000104904175, brak poprawy: 1, najlepsza epoka: 39\n",
      "Epoka: 41, dokładność: 0.875, brak poprawy: 2, najlepsza epoka: 39\n",
      "Epoka: 42, dokładność: 0.8771666884422302, brak poprawy: 0, najlepsza epoka: 42\n",
      "Epoka: 43, dokładność: 0.875083327293396, brak poprawy: 1, najlepsza epoka: 42\n",
      "Epoka: 44, dokładność: 0.8770833611488342, brak poprawy: 2, najlepsza epoka: 42\n",
      "Epoka: 45, dokładność: 0.8759999871253967, brak poprawy: 3, najlepsza epoka: 42\n",
      "Epoka: 46, dokładność: 0.878250002861023, brak poprawy: 0, najlepsza epoka: 46\n",
      "Epoka: 47, dokładność: 0.8796666860580444, brak poprawy: 0, najlepsza epoka: 47\n",
      "Epoka: 48, dokładność: 0.8799166679382324, brak poprawy: 0, najlepsza epoka: 48\n",
      "Epoka: 49, dokładność: 0.878250002861023, brak poprawy: 1, najlepsza epoka: 48\n",
      "Epoka: 50, dokładność: 0.8796666860580444, brak poprawy: 2, najlepsza epoka: 48\n",
      "Epoka: 51, dokładność: 0.8804166913032532, brak poprawy: 0, najlepsza epoka: 51\n",
      "Epoka: 52, dokładność: 0.8765833377838135, brak poprawy: 1, najlepsza epoka: 51\n",
      "Epoka: 53, dokładność: 0.8771666884422302, brak poprawy: 2, najlepsza epoka: 51\n",
      "Epoka: 54, dokładność: 0.8791666626930237, brak poprawy: 3, najlepsza epoka: 51\n",
      "Epoka: 55, dokładność: 0.8800833225250244, brak poprawy: 4, najlepsza epoka: 51\n",
      "Epoka: 56, dokładność: 0.8820833563804626, brak poprawy: 0, najlepsza epoka: 56\n",
      "Epoka: 57, dokładność: 0.8812500238418579, brak poprawy: 1, najlepsza epoka: 56\n",
      "Epoka: 58, dokładność: 0.8807500004768372, brak poprawy: 2, najlepsza epoka: 56\n",
      "Epoka: 59, dokładność: 0.8808333277702332, brak poprawy: 3, najlepsza epoka: 56\n",
      "Epoka: 60, dokładność: 0.8799999952316284, brak poprawy: 4, najlepsza epoka: 56\n"
     ]
    },
    {
     "data": {
      "text/plain": [
       "<All keys matched successfully>"
      ]
     },
     "execution_count": 16,
     "metadata": {},
     "output_type": "execute_result"
    }
   ],
   "source": [
    "train_loss = []\n",
    "validation_acc = []\n",
    "best_model = None\n",
    "best_acc = None\n",
    "best_epoch = None\n",
    "max_epoch = 10000\n",
    "no_improvement = 5\n",
    "batch_size = 512\n",
    "\n",
    "for n_epoch in range(max_epoch):\n",
    "    model.train()\n",
    "    loader = data.DataLoader(fmnist_train, batch_size=batch_size, shuffle=True, num_workers=1)\n",
    "    epoch_loss = []\n",
    "    for X_batch, y_batch in loader:\n",
    "        opt.zero_grad()\n",
    "        logits = model(X_batch)\n",
    "        loss = cost(logits, y_batch)\n",
    "        loss.backward()\n",
    "        opt.step()        \n",
    "        epoch_loss.append(loss.detach())\n",
    "    train_loss.append(torch.tensor(epoch_loss).mean())\n",
    "    model.eval()\n",
    "    loader = data.DataLoader(fmnist_validation, batch_size=len(fmnist_validation), shuffle=False)\n",
    "    X, y = next(iter(loader))\n",
    "    logits = model(X)\n",
    "    acc = compute_acc(logits, y).detach()\n",
    "    validation_acc.append(acc)\n",
    "    \n",
    "    #tutaj napisz kod wczesnego zatrzymania\n",
    "\n",
    "    if best_acc is None or acc > best_acc:\n",
    "        best_acc = acc\n",
    "        best_model = model.state_dict()\n",
    "        best_epoch = n_epoch\n",
    "        no_improvement = 0\n",
    "    else:\n",
    "        no_improvement += 1\n",
    "        if no_improvement >= 5:\n",
    "            break\n",
    "    print(\n",
    "        f\"Epoka: {n_epoch}, dokładność: {acc}, brak poprawy: {no_improvement}, \"\n",
    "        f\"najlepsza epoka: {best_epoch}\"\n",
    "    )\n",
    "model.load_state_dict(best_model)"
   ]
  },
  {
   "cell_type": "markdown",
   "metadata": {},
   "source": [
    "Przyjrzyj się poniższym wykresom"
   ]
  },
  {
   "cell_type": "code",
   "execution_count": 17,
   "metadata": {},
   "outputs": [
    {
     "data": {
      "image/png": "[encoded data removed]",
      "text/plain": [
       "<Figure size 640x480 with 1 Axes>"
      ]
     },
     "metadata": {},
     "output_type": "display_data"
    },
    {
     "data": {
      "image/png": "[encoded data removed]",
      "text/plain": [
       "<Figure size 640x480 with 1 Axes>"
      ]
     },
     "metadata": {},
     "output_type": "display_data"
    },
    {
     "data": {
      "image/png": "[encoded data removed]",
      "text/plain": [
       "<Figure size 640x480 with 1 Axes>"
      ]
     },
     "metadata": {},
     "output_type": "display_data"
    }
   ],
   "source": [
    "plt.title('Trafność na zbiorze walidacyjnym. Kropka oznacza najlepszą trafność.')\n",
    "plt.plot(validation_acc, label='Trafność na zbiorze walidacyjnym')\n",
    "plt.plot(best_epoch, best_acc, 'bo', label='Najlepsza trafność')\n",
    "plt.show()\n",
    "plt.title('Błąd na zbiorze treningowym')\n",
    "plt.plot(train_loss)\n",
    "plt.show()\n",
    "k = max(3*no_improvement, 0)\n",
    "plt.title('Ostatnie {} epok'.format(k))\n",
    "plt.plot(validation_acc[-k:])\n",
    "plt.plot(best_epoch-(len(validation_acc)-k), best_acc, 'bo')\n",
    "plt.show()"
   ]
  },
  {
   "cell_type": "markdown",
   "metadata": {},
   "source": [
    "**Zadanie 2b. Dlaczego wczesne zatrzymanie jest realizowane na zbiorze walidującym, a nie na zbiorze uczącym albo na zbiorze testowym?**"
   ]
  },
  {
   "cell_type": "markdown",
   "metadata": {},
   "source": [
    "Na zbiorze uczącym model z kadą epoką coraz lepiej się dopasowuje. Weryfikacja\n",
    "na zbiorze walidującym pozwala na znalezienie momentu, w którym model zbytnio \n",
    "dopasował się do danych uczących, ponieważ jego dokładność na modelu \n",
    "walidującym spada. Natomiast zbiór testowy służy do końcowej oceny wydajności \n",
    "modelu. "
   ]
  }
 ],
 "metadata": {
  "kernelspec": {
   "display_name": ".venv",
   "language": "python",
   "name": "python3"
  },
  "language_info": {
   "codemirror_mode": {
    "name": "ipython",
    "version": 3
   },
   "file_extension": ".py",
   "mimetype": "text/x-python",
   "name": "python",
   "nbconvert_exporter": "python",
   "pygments_lexer": "ipython3",
   "version": "3.10.16"
  }
 },
 "nbformat": 4,
 "nbformat_minor": 4
}
